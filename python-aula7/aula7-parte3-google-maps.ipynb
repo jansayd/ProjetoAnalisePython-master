{
 "cells": [
  {
   "cell_type": "markdown",
   "metadata": {},
   "source": [
    "# Visualização de dados Geográficos com Google Maps\n",
    "\n",
    "É possível plotar dados geográficos com Bokeh utilizando diferentes mecanismos utilizandos coordenadas geográficas:\n",
    "\n",
    "- [GMapPlot](https://bokeh.pydata.org/en/latest/docs/user_guide/geo.html#google-maps-support): Utiliza o Google Maps.\n",
    "- [TileSource](https://bokeh.pydata.org/en/latest/docs/user_guide/geo.html#tile-providers): em especial WMTSTileSource, que permite que os dados sejam sobrepostos em qualquer servidor, incluindo Google Maps, OpenStreatMap, Stamen, MapQuest, ou algum servidor próprio. Para visualizar exemplos, acesse o notebook [Aula 7 - Parte 5](aula7-parte5-extra-qualquer-fonte-mapa.ipynb).\n",
    "- [GeoJSONDataSource](https://bokeh.pydata.org/en/dev/docs/user_guide/geo.html#geojson-datasource): permite legar dados no formato GeoJSON para utilizar junto ao Bokeh.\n",
    "\n",
    "## Carregando o conjunto de dados"
   ]
  },
  {
   "cell_type": "code",
   "execution_count": null,
   "metadata": {
    "collapsed": true
   },
   "outputs": [],
   "source": [
    "import pandas as pd"
   ]
  },
  {
   "cell_type": "code",
   "execution_count": null,
   "metadata": {
    "collapsed": true
   },
   "outputs": [],
   "source": [
    "df = pd.read_csv('tweets_10min.csv', sep=';')"
   ]
  },
  {
   "cell_type": "code",
   "execution_count": null,
   "metadata": {},
   "outputs": [],
   "source": [
    "df.head(1)"
   ]
  },
  {
   "cell_type": "code",
   "execution_count": null,
   "metadata": {
    "collapsed": true
   },
   "outputs": [],
   "source": [
    "df_aux = df[['created_at', 'lat', 'long','location' ,'screen_name', 'text']].copy()"
   ]
  },
  {
   "cell_type": "code",
   "execution_count": null,
   "metadata": {
    "collapsed": true
   },
   "outputs": [],
   "source": [
    "df_aux = df_aux.rename(columns={'created_at':'date', 'screen_name':'user', 'long':'lon'})"
   ]
  },
  {
   "cell_type": "code",
   "execution_count": null,
   "metadata": {},
   "outputs": [],
   "source": [
    "df_aux.head(3)"
   ]
  },
  {
   "cell_type": "markdown",
   "metadata": {},
   "source": [
    "## Criando o Mapa"
   ]
  },
  {
   "cell_type": "code",
   "execution_count": null,
   "metadata": {
    "collapsed": true
   },
   "outputs": [],
   "source": [
    "from bokeh.io import output_file, show, output_notebook"
   ]
  },
  {
   "cell_type": "code",
   "execution_count": null,
   "metadata": {
    "collapsed": true
   },
   "outputs": [],
   "source": [
    "from bokeh.models import (\n",
    "    GMapPlot, GMapOptions, ColumnDataSource, Circle, Range1d, PanTool, WheelZoomTool, ResetTool\n",
    ")"
   ]
  },
  {
   "cell_type": "markdown",
   "metadata": {},
   "source": [
    "### Descrição dos modelos\n",
    "\n",
    "- GMapPlot - É a classe que irá plotar o gráfico Bokeh no Google Maps. Os dados devem ser especificados no formato de coordenadas lat long em decimal (por exemplo: 37.123, -123.404). Esse formato será automaticamente convertido para o marcado web para ser projetado no Google Maps. Parâmetros:\n",
    "    - api_key - Necessário para acessar a API do Google Maps.\n",
    "    - map_options - Define as opções de visualização do gráfico;\n",
    "    \n",
    "- GMapOptions - Opções para o objeto GMapPlot. Parâmetros:\n",
    "    - map_type - Define-se o tipo de mapa utilizado no GMapPlot. As opções podem ser visualizadas na documentação do Google Maps sobre os [MapType](https://developers.google.com/maps/documentation/javascript/reference#MapTypeId).  \n",
    "    \n",
    "- ColumnDataSource - Realiza o mapeamento dos nomes das colunas em uma sequencia ou array. É a estrutura de dados fundamental do Bokeh. Se a ColumnDataSource for inicializado com um único argumento, ele pode ser:\n",
    "    - Um dicionário em Python, que mapeia o nome da string para sequencias de valores: e.g. listas, arryas, etc.\n",
    "    ```python\n",
    "    >>> data = {'x': [1,2,3,4], 'y': np.ndarray([10.0, 20.0, 30.0, 40.0])}\n",
    "    >>> source = ColumnDataSource(data)\n",
    "    ```\n",
    "    - Um DataFrame do Pandas\n",
    "    ```python\n",
    "    source = ColumnDataSource(df)\n",
    "    ```\n",
    "\n",
    "- Circle - Renderiza um marcado no formato circular.\n",
    "\n",
    "- Range1d - É uma classe que irá preencher automaticamente um intervalo contínuo em uma dimensão escalar. Os limites superior e inferior são definidos para o valor mínimo e máximo do dados.\n",
    "\n",
    "\n",
    "São as ferramentas para realizar iterações nos gráficos gerados pelo Bokeh.\n",
    "- PanTool\n",
    "- WheelZoomTool\n",
    "- xSelectTool\n",
    "\n",
    "Para utilizar a API do Google Maps, é necessário gerar uma chave: https://developers.google.com/maps/documentation/javascript/get-api-key"
   ]
  },
  {
   "cell_type": "code",
   "execution_count": null,
   "metadata": {
    "collapsed": true
   },
   "outputs": [],
   "source": [
    "GOOGLE_API_KEY=\"\""
   ]
  },
  {
   "cell_type": "markdown",
   "metadata": {},
   "source": [
    "Definindo as opções do Mapa, iremos criar o mapa, com a lat e long com o centro do mundo, definir o tipo de visualização do mapa e o zoom."
   ]
  },
  {
   "cell_type": "code",
   "execution_count": null,
   "metadata": {
    "collapsed": true
   },
   "outputs": [],
   "source": [
    "map_options = GMapOptions(lat=-23.56, lng=-46.70, map_type=\"roadmap\", zoom=3)"
   ]
  },
  {
   "cell_type": "code",
   "execution_count": null,
   "metadata": {
    "collapsed": true
   },
   "outputs": [],
   "source": [
    "plot = GMapPlot(\n",
    "    x_range=Range1d(), y_range=Range1d(), map_options=map_options\n",
    ")"
   ]
  },
  {
   "cell_type": "code",
   "execution_count": null,
   "metadata": {
    "collapsed": true
   },
   "outputs": [],
   "source": [
    "plot.title.text = \"Mostrando a região de {} tweets\".format(len(df_aux.index))\n",
    "plot.title.text_font_size=\"20pt\"\n",
    "plot.api_key = GOOGLE_API_KEY"
   ]
  },
  {
   "cell_type": "code",
   "execution_count": null,
   "metadata": {
    "collapsed": true
   },
   "outputs": [],
   "source": [
    "source = ColumnDataSource(df_aux)"
   ]
  },
  {
   "cell_type": "code",
   "execution_count": null,
   "metadata": {},
   "outputs": [],
   "source": [
    "print(source)"
   ]
  },
  {
   "cell_type": "code",
   "execution_count": null,
   "metadata": {},
   "outputs": [],
   "source": [
    "circle = Circle(x=\"lon\", y=\"lat\", size=15, fill_color=\"blue\", \n",
    "                fill_alpha=0.8, line_color=None)\n",
    "plot.add_glyph(source, circle)"
   ]
  },
  {
   "cell_type": "markdown",
   "metadata": {},
   "source": [
    "### Adicionando as informações complementares."
   ]
  },
  {
   "cell_type": "code",
   "execution_count": null,
   "metadata": {
    "collapsed": true
   },
   "outputs": [],
   "source": [
    "from bokeh.models import HoverTool"
   ]
  },
  {
   "cell_type": "code",
   "execution_count": null,
   "metadata": {
    "collapsed": true
   },
   "outputs": [],
   "source": [
    "plot.add_tools(PanTool(), WheelZoomTool(), ResetTool(), HoverTool(tooltips=[(\"user\", \"@user\"),(\"local\", \"@location\")]))"
   ]
  },
  {
   "cell_type": "code",
   "execution_count": null,
   "metadata": {},
   "outputs": [],
   "source": [
    "#output_file(\"gmap_plot.html\")\n",
    "output_notebook()"
   ]
  },
  {
   "cell_type": "code",
   "execution_count": null,
   "metadata": {},
   "outputs": [],
   "source": [
    "show(plot)"
   ]
  },
  {
   "cell_type": "markdown",
   "metadata": {
    "collapsed": true
   },
   "source": [
    "<div class=\"alert alert-block alert-danger\">\n",
    "Atenção: Existe um [problema](https://github.com/bokeh/bokeh/issues/2964) conhecido onde os pontos que aparecem no mapa podem estar ~10px de distância da localização correta."
   ]
  },
  {
   "cell_type": "code",
   "execution_count": null,
   "metadata": {
    "collapsed": true
   },
   "outputs": [],
   "source": []
  }
 ],
 "metadata": {
  "kernelspec": {
   "display_name": "Python 3",
   "language": "python",
   "name": "python3"
  },
  "language_info": {
   "codemirror_mode": {
    "name": "ipython",
    "version": 3
   },
   "file_extension": ".py",
   "mimetype": "text/x-python",
   "name": "python",
   "nbconvert_exporter": "python",
   "pygments_lexer": "ipython3",
   "version": "3.6.3"
  }
 },
 "nbformat": 4,
 "nbformat_minor": 2
}
