{
 "cells": [
  {
   "cell_type": "markdown",
   "metadata": {},
   "source": [
    "## Aula 8 - Parte 1 - Pesquisar por videos"
   ]
  },
  {
   "cell_type": "markdown",
   "metadata": {},
   "source": [
    "O primeiro passo é importar a biblioteca apiclient que deve ter sido instalada. Caso não tenha instalado, abra o CMD ou Terminal e digite:\n",
    "\n",
    "    pip install google-api-python-client\n",
    "    \n",
    "Iremos importar uma função específica da biblioteca que irá construir a API."
   ]
  },
  {
   "cell_type": "code",
   "execution_count": null,
   "metadata": {
    "collapsed": true
   },
   "outputs": [],
   "source": [
    "from apiclient.discovery import build"
   ]
  },
  {
   "cell_type": "markdown",
   "metadata": {},
   "source": [
    "Acesse https://console.developers.google.com/apis/credential e recupere a chave de acesso."
   ]
  },
  {
   "cell_type": "code",
   "execution_count": null,
   "metadata": {
    "collapsed": true
   },
   "outputs": [],
   "source": [
    "nome_servico = \"youtube\"\n",
    "versao = \"v3\"\n",
    "chave = \"\""
   ]
  },
  {
   "cell_type": "markdown",
   "metadata": {},
   "source": [
    "Para ter acesso as funcionalidades da API, iremos criar um objeto que contém o serviço a ser utilizado, a versão e a chave gerada anteriormente."
   ]
  },
  {
   "cell_type": "code",
   "execution_count": null,
   "metadata": {
    "collapsed": true
   },
   "outputs": [],
   "source": [
    "api = build(nome_servico, versao, developerKey=chave)"
   ]
  },
  {
   "cell_type": "markdown",
   "metadata": {},
   "source": [
    "O método utilizado para realizar a pesquisa será ```search().list()```. Alguns dos parâmetros possíveis são apresentados abaixo:\n",
    "\n",
    "_Parâmetros obrigatórios_\n",
    "- ```part``` especifica uma lista separada por vírgulas de uma ou mais propriedades de recurso ```search``` que serão incluídas pela resposta da API. Os valores que podem ser incluídos são: ```id``` e ```snippet```.\n",
    "\n",
    "_Parâmetros opcionais_\n",
    "- ```q``` especifica o termo da consulta a ser pesquisado.\n",
    "- ```maxResults``` especifica o número máximo e itens que devem ser retornados (máximo 50). **O valor padrão é 5.**\n",
    "- ```order``` especifica o método que será utilizado para classificar os recursos na resposta da API.\n",
    "    - ```date``` - são classificados em ordem da data mais atual para a mais antiga.\n",
    "    - ```rating``` - são classificados da maior para a menor classificação.\n",
    "    - ```relevance``` - são classificados com base em sua relevância para a consulta da pesquisa. **Este é o valor padrão.**\n",
    "    - ```title``` - são classificados em ordem alfabética.\n",
    "- ```type``` - restringe uma consulta de pesquisa para recuperar somente um tipo de recurso. Valores aceitáveis.\n",
    "    - ```channel``` - Retorna os canais relacionados a busca.\n",
    "    - ```playlist``` - Retorna as playlists relacionadas a busca.\n",
    "    - ```video``` - Retorna os videos relacionados a busca.\n",
    "\n",
    "\n",
    "Outros parâmetros podem ser visualizados em: https://developers.google.com/youtube/v3/docs/search/list?hl=pt-br\n",
    "\n",
    "Para facilitar, iremos criar uma função que irá recuperar os vídeos com os seguintes parâmetros:\n",
    "\n",
    "- ```api``` - objeto que contém as informações da API que se deseja utilizar, bem como a credencial de acesso.\n",
    "- ```consulta``` - termo a ser pesquisado.\n",
    "- ```quantidade``` - quantos videos queremos recuperar.\n",
    "- ```part``` - propriedades de recurso que serão incluídas pela resposta da API."
   ]
  },
  {
   "cell_type": "code",
   "execution_count": null,
   "metadata": {
    "collapsed": true
   },
   "outputs": [],
   "source": [
    "def pesquisar_videos(api, consulta, quantidade, ordem='relevance', part='id,snippet'):\n",
    "    resposta = api.search().list(\n",
    "        q=consulta, \n",
    "        maxResults=quantidade, \n",
    "        order=ordem, \n",
    "        type=\"video\", \n",
    "        part=part).execute()\n",
    "    \n",
    "    return resposta"
   ]
  },
  {
   "cell_type": "code",
   "execution_count": null,
   "metadata": {
    "collapsed": true
   },
   "outputs": [],
   "source": [
    "dados = pesquisar_videos(api, 'Copa do Mundo 2018', 50)"
   ]
  },
  {
   "cell_type": "code",
   "execution_count": null,
   "metadata": {},
   "outputs": [],
   "source": [
    "dados.keys()"
   ]
  },
  {
   "cell_type": "code",
   "execution_count": null,
   "metadata": {},
   "outputs": [],
   "source": [
    "dados['pageInfo']"
   ]
  },
  {
   "cell_type": "code",
   "execution_count": null,
   "metadata": {},
   "outputs": [],
   "source": [
    "dados['regionCode']"
   ]
  },
  {
   "cell_type": "code",
   "execution_count": null,
   "metadata": {},
   "outputs": [],
   "source": [
    "len(dados['items'])"
   ]
  },
  {
   "cell_type": "code",
   "execution_count": null,
   "metadata": {},
   "outputs": [],
   "source": [
    "dados['items'][0]"
   ]
  },
  {
   "cell_type": "markdown",
   "metadata": {},
   "source": [
    "### Estrutura os dados recuperados"
   ]
  },
  {
   "cell_type": "code",
   "execution_count": null,
   "metadata": {
    "collapsed": true
   },
   "outputs": [],
   "source": [
    "import pandas as pd"
   ]
  },
  {
   "cell_type": "code",
   "execution_count": null,
   "metadata": {
    "collapsed": true
   },
   "outputs": [],
   "source": [
    "df = pd.DataFrame(columns=['videoId', 'title', 'channelTitle', 'channelId', 'description', 'publishedAt', 'url_thumb'])"
   ]
  },
  {
   "cell_type": "code",
   "execution_count": null,
   "metadata": {
    "collapsed": true
   },
   "outputs": [],
   "source": [
    "for i in range(len(dados['items'])):\n",
    "    videoId = dados['items'][i]['id']['videoId']\n",
    "    title = dados['items'][i]['snippet']['title']\n",
    "    channelTitle = dados['items'][i]['snippet']['channelTitle']\n",
    "    channelId = dados['items'][i]['snippet']['channelId']\n",
    "    description = dados['items'][i]['snippet']['description']\n",
    "    publishedAt = dados['items'][i]['snippet']['publishedAt']\n",
    "    url_thumb = dados['items'][i]['snippet']['thumbnails']['high']['url']\n",
    "    df.loc[i] = [videoId, title, channelTitle, channelId, description, publishedAt, url_thumb]"
   ]
  },
  {
   "cell_type": "code",
   "execution_count": null,
   "metadata": {},
   "outputs": [],
   "source": [
    "df"
   ]
  },
  {
   "cell_type": "markdown",
   "metadata": {},
   "source": [
    "Persistir em disco os dados salvos."
   ]
  },
  {
   "cell_type": "code",
   "execution_count": null,
   "metadata": {
    "collapsed": true
   },
   "outputs": [],
   "source": [
    "df.to_csv('50_videos_copa_mundo.csv', sep=';', header=True, index=False, encoding='utf-8')"
   ]
  },
  {
   "cell_type": "code",
   "execution_count": null,
   "metadata": {
    "collapsed": true
   },
   "outputs": [],
   "source": []
  }
 ],
 "metadata": {
  "kernelspec": {
   "display_name": "Python 3",
   "language": "python",
   "name": "python3"
  },
  "language_info": {
   "codemirror_mode": {
    "name": "ipython",
    "version": 3
   },
   "file_extension": ".py",
   "mimetype": "text/x-python",
   "name": "python",
   "nbconvert_exporter": "python",
   "pygments_lexer": "ipython3",
   "version": "3.6.3"
  }
 },
 "nbformat": 4,
 "nbformat_minor": 2
}
