{
 "cells": [
  {
   "cell_type": "markdown",
   "metadata": {},
   "source": [
    "# Aula 9 - Parte 2 - Analise de Sentimento\n",
    "\n",
    "Esse notebook descreve o passo a passo para aplicar o classificador criado anteriormente para gerar a classificação dos comentários do Youtube em positivo, negativo ou neutro."
   ]
  },
  {
   "cell_type": "markdown",
   "metadata": {},
   "source": [
    "## 1. Carregar base do Youtube"
   ]
  },
  {
   "cell_type": "code",
   "execution_count": null,
   "metadata": {
    "collapsed": true
   },
   "outputs": [],
   "source": [
    "import pandas as pd"
   ]
  },
  {
   "cell_type": "code",
   "execution_count": null,
   "metadata": {
    "collapsed": true
   },
   "outputs": [],
   "source": [
    "dados_comentarios = pd.read_csv('todos_comentarios.csv', sep=';', encoding='utf-8')"
   ]
  },
  {
   "cell_type": "code",
   "execution_count": null,
   "metadata": {
    "collapsed": true
   },
   "outputs": [],
   "source": [
    "def carregar_dados(arquivo):\n",
    "    dados = pd.read_csv(arquivo, sep=';', encoding='utf-8')\n",
    "    \n",
    "    base = []\n",
    "    for i in range(len(dados)):\n",
    "        base.append((dados.textDisplay.loc[i], None))\n",
    "    return base[1:]"
   ]
  },
  {
   "cell_type": "code",
   "execution_count": null,
   "metadata": {
    "collapsed": true
   },
   "outputs": [],
   "source": [
    "dados_comentarios = carregar_dados('todos_comentarios.csv')"
   ]
  },
  {
   "cell_type": "code",
   "execution_count": null,
   "metadata": {},
   "outputs": [],
   "source": [
    "dados_comentarios"
   ]
  },
  {
   "cell_type": "code",
   "execution_count": null,
   "metadata": {},
   "outputs": [],
   "source": [
    "print(len(dados_comentarios))"
   ]
  },
  {
   "cell_type": "markdown",
   "metadata": {},
   "source": [
    "## 2. Carregar classificador Naive Bayes"
   ]
  },
  {
   "cell_type": "code",
   "execution_count": null,
   "metadata": {
    "collapsed": true
   },
   "outputs": [],
   "source": [
    "import pickle"
   ]
  },
  {
   "cell_type": "code",
   "execution_count": null,
   "metadata": {
    "collapsed": true
   },
   "outputs": [],
   "source": [
    "def carregar_modelo(nome_arquivo):\n",
    "    nome = str(nome_arquivo) + '.pickle'\n",
    "    try:\n",
    "        arquivo = open(nome, \"rb\")\n",
    "        modelo = pickle.load(arquivo)\n",
    "        arquivo.close()\n",
    "        return modelo\n",
    "    except Exception as e:\n",
    "        return e"
   ]
  },
  {
   "cell_type": "code",
   "execution_count": null,
   "metadata": {
    "collapsed": true
   },
   "outputs": [],
   "source": [
    "classificador = carregar_modelo('naivebayes')"
   ]
  },
  {
   "cell_type": "code",
   "execution_count": null,
   "metadata": {},
   "outputs": [],
   "source": [
    "classificador"
   ]
  },
  {
   "cell_type": "markdown",
   "metadata": {},
   "source": [
    "## 3. Realizando a classificação para um comentário\n",
    "\n",
    "Para que a nova frase seja classificada os seguintes passos devem ser realizados:\n",
    "- Remover as stopwords\n",
    "- Aplicar o Stemming\n",
    "- Recuperar as características\n",
    "- Realizar a classificação\n",
    "\n",
    "Para facilitar o uso dessas funções, elas foram adicionadas em um arquivo chamda ```utils.py```. Para utiliza-las, basta importar o arquivo."
   ]
  },
  {
   "cell_type": "code",
   "execution_count": null,
   "metadata": {
    "collapsed": true
   },
   "outputs": [],
   "source": [
    "import nltk"
   ]
  },
  {
   "cell_type": "code",
   "execution_count": null,
   "metadata": {
    "collapsed": true
   },
   "outputs": [],
   "source": [
    "from importlib import reload"
   ]
  },
  {
   "cell_type": "code",
   "execution_count": null,
   "metadata": {},
   "outputs": [],
   "source": [
    "import utils"
   ]
  },
  {
   "cell_type": "code",
   "execution_count": null,
   "metadata": {},
   "outputs": [],
   "source": [
    "reload(utils)"
   ]
  },
  {
   "cell_type": "code",
   "execution_count": null,
   "metadata": {
    "collapsed": true
   },
   "outputs": [],
   "source": [
    "texto = 'eu sinto amor por voce'"
   ]
  },
  {
   "cell_type": "code",
   "execution_count": null,
   "metadata": {},
   "outputs": [],
   "source": [
    "dados_comentarios[0]"
   ]
  },
  {
   "cell_type": "code",
   "execution_count": null,
   "metadata": {
    "collapsed": true
   },
   "outputs": [],
   "source": [
    "frase = utils.estruturar_dados([dados_comentarios[0]])"
   ]
  },
  {
   "cell_type": "code",
   "execution_count": null,
   "metadata": {},
   "outputs": [],
   "source": [
    "frase"
   ]
  },
  {
   "cell_type": "code",
   "execution_count": null,
   "metadata": {},
   "outputs": [],
   "source": [
    "frase[0][0]"
   ]
  },
  {
   "cell_type": "code",
   "execution_count": null,
   "metadata": {
    "collapsed": true
   },
   "outputs": [],
   "source": [
    "resultado = utils.classificar_texto(classificador, frase[0][0])"
   ]
  },
  {
   "cell_type": "code",
   "execution_count": null,
   "metadata": {},
   "outputs": [],
   "source": [
    "resultado"
   ]
  },
  {
   "cell_type": "markdown",
   "metadata": {},
   "source": [
    "## 4. Realizando a classificação para TODOS comentários"
   ]
  },
  {
   "cell_type": "code",
   "execution_count": null,
   "metadata": {},
   "outputs": [],
   "source": [
    "df_classificados = pd.DataFrame(columns=['texto', 'classe', 'prob_pos', 'prob_neg', 'prob_neu', 'emoticon'])\n",
    "df_classificados"
   ]
  },
  {
   "cell_type": "code",
   "execution_count": null,
   "metadata": {
    "collapsed": true
   },
   "outputs": [],
   "source": [
    "from time import time"
   ]
  },
  {
   "cell_type": "code",
   "execution_count": null,
   "metadata": {},
   "outputs": [],
   "source": [
    "print(len(dados_comentarios))"
   ]
  },
  {
   "cell_type": "markdown",
   "metadata": {},
   "source": [
    "Para classificar mais de 167mil comentários irá demorar cerca de 2 horas e 30 minutos, dependendo da sua máquina."
   ]
  },
  {
   "cell_type": "code",
   "execution_count": null,
   "metadata": {},
   "outputs": [],
   "source": [
    "ti = time()\n",
    "for i in range(len(dados_comentarios)):\n",
    "    if i % 5000 == 0:\n",
    "        print(i, end=\" \")\n",
    "    \n",
    "    frase = utils.estruturar_dados([dados_comentarios[i]])\n",
    "    resultado = utils.classificar_texto(classificador, frase[0][0])\n",
    "    \n",
    "    if resultado['classe'] == 'positivo':\n",
    "        emoticon = u\"\\U0001F642\"\n",
    "    elif resultado['classe'] == 'neutro':\n",
    "        emoticon = u\"\\U0001F610\"\n",
    "    elif resultado['classe'] == 'negativo':\n",
    "        emoticon = u\"\\U0001F641\"\n",
    "    \n",
    "    df_classificados.loc[i] = [\n",
    "        dados_comentarios[i][0], \n",
    "        resultado['classe'],\n",
    "        resultado['positivo'],\n",
    "        resultado['neutro'],\n",
    "        resultado['negativo'],\n",
    "        emoticon]\n",
    "tf = time() - ti\n",
    "print(\"\\nTempo total {} em segundos\".format(tf))"
   ]
  },
  {
   "cell_type": "code",
   "execution_count": null,
   "metadata": {},
   "outputs": [],
   "source": [
    "df_classificados"
   ]
  },
  {
   "cell_type": "code",
   "execution_count": null,
   "metadata": {},
   "outputs": [],
   "source": [
    "%%time\n",
    "df_classificados.to_csv('todos_comentarios_classificados.csv', sep=';', header=True, index=False, encoding='utf-8')"
   ]
  },
  {
   "cell_type": "code",
   "execution_count": null,
   "metadata": {
    "collapsed": true
   },
   "outputs": [],
   "source": []
  }
 ],
 "metadata": {
  "kernelspec": {
   "display_name": "Python 3",
   "language": "python",
   "name": "python3"
  },
  "language_info": {
   "codemirror_mode": {
    "name": "ipython",
    "version": 3
   },
   "file_extension": ".py",
   "mimetype": "text/x-python",
   "name": "python",
   "nbconvert_exporter": "python",
   "pygments_lexer": "ipython3",
   "version": "3.6.3"
  }
 },
 "nbformat": 4,
 "nbformat_minor": 2
}
