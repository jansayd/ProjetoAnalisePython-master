{
 "cells": [
  {
   "cell_type": "markdown",
   "metadata": {},
   "source": [
    "# Classes e Objetos"
   ]
  },
  {
   "cell_type": "code",
   "execution_count": null,
   "metadata": {
    "collapsed": true
   },
   "outputs": [],
   "source": [
    "class Pessoa(object):\n",
    "    def __init__(self, nome, idade):\n",
    "        self.nome = nome\n",
    "        self.idade = idade"
   ]
  },
  {
   "cell_type": "code",
   "execution_count": null,
   "metadata": {
    "collapsed": true
   },
   "outputs": [],
   "source": [
    "joao = Pessoa()"
   ]
  },
  {
   "cell_type": "code",
   "execution_count": null,
   "metadata": {
    "collapsed": true
   },
   "outputs": [],
   "source": [
    "joao = Pessoa('João', 20)\n",
    "print(joao, '\\n')\n",
    "print(joao.nome)\n",
    "print(joao.idade)"
   ]
  },
  {
   "cell_type": "code",
   "execution_count": null,
   "metadata": {
    "collapsed": true
   },
   "outputs": [],
   "source": [
    "joao.nome = 'João Pedro'\n",
    "print(joao.nome)"
   ]
  },
  {
   "cell_type": "code",
   "execution_count": null,
   "metadata": {
    "collapsed": true
   },
   "outputs": [],
   "source": [
    "maria = Pessoa('Maria', 20)\n",
    "print(maria)\n",
    "print(maria.nome)\n",
    "print(maria.idade)"
   ]
  },
  {
   "cell_type": "markdown",
   "metadata": {},
   "source": [
    "## Herança"
   ]
  },
  {
   "cell_type": "code",
   "execution_count": null,
   "metadata": {
    "collapsed": true
   },
   "outputs": [],
   "source": [
    "class Pessoa(object):\n",
    "    def __init__(self, nome, idade):\n",
    "        self.nome = nome\n",
    "        self.idade = idade"
   ]
  },
  {
   "cell_type": "code",
   "execution_count": null,
   "metadata": {
    "collapsed": true
   },
   "outputs": [],
   "source": [
    "class Atleta(Pessoa):\n",
    "    def __init__(self, nome, idade, peso):\n",
    "        Pessoa.__init__(self, nome, idade)\n",
    "        self.peso = peso\n",
    "        self.aposentado = False\n",
    "        \n",
    "    def aquecer(self):\n",
    "        print(\"Atleta Aquecido\")\n",
    "    \n",
    "    def aposentar(self):\n",
    "        self.aposentado = True\n"
   ]
  },
  {
   "cell_type": "code",
   "execution_count": null,
   "metadata": {
    "collapsed": true
   },
   "outputs": [],
   "source": [
    "jose = Atleta('Jose', 30, 80)\n",
    "print(jose.aposentado)"
   ]
  },
  {
   "cell_type": "code",
   "execution_count": null,
   "metadata": {
    "collapsed": true
   },
   "outputs": [],
   "source": [
    "jose.aposentar()\n",
    "print(jose.aposentado)"
   ]
  },
  {
   "cell_type": "code",
   "execution_count": null,
   "metadata": {
    "collapsed": true
   },
   "outputs": [],
   "source": [
    "jose.aquecer()"
   ]
  },
  {
   "cell_type": "code",
   "execution_count": null,
   "metadata": {
    "collapsed": true
   },
   "outputs": [],
   "source": [
    "jose.nome = 'Zé'\n",
    "print(jose.nome, jose.idade, jose.peso)"
   ]
  },
  {
   "cell_type": "code",
   "execution_count": null,
   "metadata": {
    "collapsed": true
   },
   "outputs": [],
   "source": [
    "class Corredor(Atleta):\n",
    "    def correr(self):\n",
    "        print(\"Corredor correndo\")\n",
    "\n",
    "class Nadador(Atleta):\n",
    "    def nadar(self):\n",
    "        print(\"Nadador nadando\")\n",
    "\n",
    "class Ciclista(Atleta):\n",
    "    def pedalar(self):\n",
    "        print(\"Ciclista pedalando\")"
   ]
  },
  {
   "cell_type": "code",
   "execution_count": null,
   "metadata": {
    "collapsed": true
   },
   "outputs": [],
   "source": [
    "pedro = Ciclista('Pedro', 30, 100)\n",
    "print(dir(pedro))"
   ]
  },
  {
   "cell_type": "code",
   "execution_count": null,
   "metadata": {
    "collapsed": true
   },
   "outputs": [],
   "source": [
    "class Triatleta(Corredor, Nadador, Ciclista):\n",
    "    def triatlo(self):\n",
    "        print(\"Iniciar prova\")"
   ]
  },
  {
   "cell_type": "markdown",
   "metadata": {},
   "source": [
    "## Exercício de 5 minutos\n",
    "\n",
    "    a) Crie uma instancia da classe Pessoa com o nome de joao.\n",
    "    b) Crie uma instancia da classe Atleta com o nome de anderson.\n",
    "    c) Crie uma instancia da classe Corredor com o nome de vanderlei.\n",
    "    d) Crie uma instancia da classe Triatleta com o nome de silvia.\n",
    "    e) Análise o comportamento da criação e teste os métodos existentes em cada uma das instâncias criadas.\n"
   ]
  },
  {
   "cell_type": "code",
   "execution_count": null,
   "metadata": {
    "collapsed": true
   },
   "outputs": [],
   "source": [
    "# a)\n",
    "joao = Pessoa('Joao', 20)\n",
    "print(dir(joao))"
   ]
  },
  {
   "cell_type": "code",
   "execution_count": null,
   "metadata": {
    "collapsed": true
   },
   "outputs": [],
   "source": [
    "# b)\n",
    "anderson = Atleta('Anderson', 30, 80)\n",
    "print(dir(anderson))"
   ]
  },
  {
   "cell_type": "code",
   "execution_count": null,
   "metadata": {
    "collapsed": true
   },
   "outputs": [],
   "source": [
    "# c)\n",
    "vanderlei = Corredor('Vanderlei', 30, 80)\n",
    "print(dir(vanderlei))"
   ]
  },
  {
   "cell_type": "code",
   "execution_count": null,
   "metadata": {
    "collapsed": true
   },
   "outputs": [],
   "source": [
    "# d)\n",
    "silvia = Triatleta('Silvia', 30, 80)\n",
    "print(dir(silvia))"
   ]
  },
  {
   "cell_type": "code",
   "execution_count": null,
   "metadata": {
    "collapsed": true
   },
   "outputs": [],
   "source": []
  }
 ],
 "metadata": {
  "kernelspec": {
   "display_name": "Python 3",
   "language": "python",
   "name": "python3"
  },
  "language_info": {
   "codemirror_mode": {
    "name": "ipython",
    "version": 3
   },
   "file_extension": ".py",
   "mimetype": "text/x-python",
   "name": "python",
   "nbconvert_exporter": "python",
   "pygments_lexer": "ipython3",
   "version": "3.6.3"
  }
 },
 "nbformat": 4,
 "nbformat_minor": 1
}
