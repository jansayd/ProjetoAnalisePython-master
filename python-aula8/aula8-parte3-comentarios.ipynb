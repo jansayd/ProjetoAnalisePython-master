{
 "cells": [
  {
   "cell_type": "markdown",
   "metadata": {},
   "source": [
    "## Aula 8 - Parte 3 - Recuperar comentários\n",
    "\n",
    "Iremos recuperar todos os comentários dos 50 vídeos que recuperamos anteriormente."
   ]
  },
  {
   "cell_type": "code",
   "execution_count": null,
   "metadata": {
    "collapsed": true
   },
   "outputs": [],
   "source": [
    "import pandas as pd"
   ]
  },
  {
   "cell_type": "code",
   "execution_count": null,
   "metadata": {
    "collapsed": true
   },
   "outputs": [],
   "source": [
    "df = pd.read_csv('metricas_videos.csv', sep=';', encoding='utf-8')"
   ]
  },
  {
   "cell_type": "code",
   "execution_count": null,
   "metadata": {},
   "outputs": [],
   "source": [
    "df"
   ]
  },
  {
   "cell_type": "markdown",
   "metadata": {},
   "source": [
    "Acesse: https://console.developers.google.com/apis/credential e recupere a chave de acesso."
   ]
  },
  {
   "cell_type": "code",
   "execution_count": null,
   "metadata": {
    "collapsed": true
   },
   "outputs": [],
   "source": [
    "from apiclient.discovery import build"
   ]
  },
  {
   "cell_type": "code",
   "execution_count": null,
   "metadata": {
    "collapsed": true
   },
   "outputs": [],
   "source": [
    "nome_servico = \"youtube\"\n",
    "versao = \"v3\"\n",
    "chave = \"\""
   ]
  },
  {
   "cell_type": "markdown",
   "metadata": {},
   "source": [
    "Cria o objeto com a API do Youtube, versão específica e a chave gerada."
   ]
  },
  {
   "cell_type": "code",
   "execution_count": null,
   "metadata": {
    "collapsed": true
   },
   "outputs": [],
   "source": [
    "api = build(nome_servico, versao, developerKey=chave)"
   ]
  },
  {
   "cell_type": "markdown",
   "metadata": {},
   "source": [
    "O método utilizado para recuperar os comentários é ```commentThreads().list()```. Alguns dos parâmetros que podem ser utilizados:\n",
    "\n",
    "_Parâmetros obrigatórios_\n",
    "- ```part``` especifica uma lista separada por vírgulas de uma ou mais propriedades de recurso ```commentThread``` que serão incluídas pela resposta da API. Os valores que podem ser incluídos são: ```id``` e ```snippet```.\n",
    "\n",
    "_Parâmetros opcionais_\n",
    "- ```videoId``` : necessário para identificar de qual vídeo os comentários devem ser recuperados.\n",
    "- ```maxResults```: quantidade máxima de comentários por requisição. Máximo de 100. **Valor padrão 20.**\n",
    "- ```pageToken```: token utilizado para recuperar mais de 100 comentários.\n",
    "\n"
   ]
  },
  {
   "cell_type": "code",
   "execution_count": null,
   "metadata": {
    "collapsed": true
   },
   "outputs": [],
   "source": [
    "def recuperar_comentarios(api, videoId, quantidade=100, token=None, part=\"id,snippet\"):\n",
    "    dados = api.commentThreads().list(\n",
    "        videoId=videoId, \n",
    "        maxResults=quantidade, \n",
    "        pageToken=token,\n",
    "        part=part\n",
    "    ).execute()\n",
    "    comentarios = [item for item in dados['items']]\n",
    "    try:\n",
    "        nexttoken = dados['nextPageToken']\n",
    "        return (nexttoken, comentarios)\n",
    "    except Exception as e:\n",
    "        # Caso dê algum erro, definimos uma string de parada.\n",
    "        nexttoken = \"ultimo_comentario\"\n",
    "        return (nexttoken, comentarios)"
   ]
  },
  {
   "cell_type": "markdown",
   "metadata": {},
   "source": [
    "Estrutura para salvar os dados recuperados."
   ]
  },
  {
   "cell_type": "code",
   "execution_count": null,
   "metadata": {
    "collapsed": true
   },
   "outputs": [],
   "source": [
    "comentarios_dict = {\n",
    "    'id_comentario' : [],\n",
    "    'id_video' : [],\n",
    "    'textDisplay' : [],\n",
    "    'likeCount' : [],\n",
    "    'authorDisplayName' : [],\n",
    "    'publishedAt' : [],\n",
    "    'updatedAt' : []\n",
    "}"
   ]
  },
  {
   "cell_type": "markdown",
   "metadata": {},
   "source": [
    "Função para estruturar os comentários recuperados."
   ]
  },
  {
   "cell_type": "code",
   "execution_count": null,
   "metadata": {
    "collapsed": true
   },
   "outputs": [],
   "source": [
    "def estruturar_comentarios(api, videoId, token=None):\n",
    "    novos_comentarios = recuperar_comentarios(api, videoId, token=token)\n",
    "    token = novos_comentarios[0]\n",
    "    comentarios = novos_comentarios[1]\n",
    "    print(len(comentarios), end=\" \")\n",
    "    for comm in comentarios:\n",
    "        comentarios_dict['id_comentario'].append(comm['id'])\n",
    "        comentarios_dict['id_video'].append(comm['snippet']['topLevelComment']['snippet']['videoId'])\n",
    "        comentarios_dict['textDisplay'].append(comm['snippet']['topLevelComment']['snippet']['textDisplay'])\n",
    "        comentarios_dict['likeCount'].append(comm['snippet']['topLevelComment']['snippet']['likeCount'])\n",
    "        comentarios_dict['authorDisplayName'].append(comm['snippet']['topLevelComment']['snippet']['authorDisplayName'])\n",
    "        comentarios_dict['publishedAt'].append(comm['snippet']['topLevelComment']['snippet']['publishedAt'])\n",
    "        comentarios_dict['updatedAt'].append(comm['snippet']['topLevelComment']['snippet']['updatedAt'])\n",
    "        \n",
    "    return token"
   ]
  },
  {
   "cell_type": "markdown",
   "metadata": {},
   "source": [
    "### Recuperar todos comentários sobre todos videos"
   ]
  },
  {
   "cell_type": "code",
   "execution_count": null,
   "metadata": {
    "collapsed": true
   },
   "outputs": [],
   "source": [
    "from time import time, sleep"
   ]
  },
  {
   "cell_type": "code",
   "execution_count": null,
   "metadata": {
    "collapsed": true
   },
   "outputs": [],
   "source": [
    "import json"
   ]
  },
  {
   "cell_type": "markdown",
   "metadata": {},
   "source": [
    "Para recuperar todos os comentários disponíveis dos 50 vídeos irá demorar cerca de 20 minutos."
   ]
  },
  {
   "cell_type": "code",
   "execution_count": null,
   "metadata": {
    "collapsed": true
   },
   "outputs": [],
   "source": []
  },
  {
   "cell_type": "code",
   "execution_count": null,
   "metadata": {},
   "outputs": [],
   "source": [
    "# Tempo inicial para recuperar todos os comentários dos 50 videos.\n",
    "ti = time()\n",
    "\n",
    "# Para cada item (linha) do DF\n",
    "for i in range(len(df)):\n",
    "    # Tempo inicial para um vídeo\n",
    "    tii = time()\n",
    "    \n",
    "    # Recupera o Id\n",
    "    print(i, '-->', df.videoId[i])\n",
    "    videoId = df.videoId[i]\n",
    "    \n",
    "    # Tenta recuperar os comentários\n",
    "    try:\n",
    "        token = estruturar_comentarios(api, videoId)\n",
    "        while token != \"ultimo_comentario\":\n",
    "            try:\n",
    "                token = estruturar_comentarios(api, videoId, token=token)\n",
    "            except:\n",
    "                # Caso dê alguma exceção, antes de tentar novamente, esperar 5 segundos.\n",
    "                sleep(5)\n",
    "                token = estruturar_comentarios(api, videoId, token=token)\n",
    "        tff = time() - tii\n",
    "        print(\"\\nComentários recuperados para VideoId: {}. Demorou {} segundos.\".format(videoId, tff))\n",
    "    \n",
    "    # Caso não seja possível, continue a execução para o próximo vídeo.\n",
    "    except Exception as e:\n",
    "        aux = json.loads(e.content)\n",
    "        if aux['error']['errors'][0]['reason'] == 'commentsDisabled':\n",
    "            pass\n",
    "tf = time() - ti\n",
    "print(\"\\nDemorou {} segundos para recuperar os videos\".format(tf))"
   ]
  },
  {
   "cell_type": "code",
   "execution_count": null,
   "metadata": {},
   "outputs": [],
   "source": [
    "len(comentarios_dict['id_comentario'])"
   ]
  },
  {
   "cell_type": "code",
   "execution_count": null,
   "metadata": {
    "collapsed": true
   },
   "outputs": [],
   "source": [
    "todos_comentarios = pd.DataFrame(comentarios_dict)"
   ]
  },
  {
   "cell_type": "code",
   "execution_count": null,
   "metadata": {
    "collapsed": true
   },
   "outputs": [],
   "source": [
    "pd.set_option('display.max_colwidth', -1)"
   ]
  },
  {
   "cell_type": "code",
   "execution_count": null,
   "metadata": {},
   "outputs": [],
   "source": [
    "todos_comentarios[33:38]"
   ]
  },
  {
   "cell_type": "code",
   "execution_count": null,
   "metadata": {
    "collapsed": true
   },
   "outputs": [],
   "source": [
    "todos_comentarios.to_csv('todos_comentarios.csv', header=True, sep=';', index=False, encoding='utf-8')"
   ]
  },
  {
   "cell_type": "code",
   "execution_count": null,
   "metadata": {
    "collapsed": true
   },
   "outputs": [],
   "source": []
  }
 ],
 "metadata": {
  "kernelspec": {
   "display_name": "Python 3",
   "language": "python",
   "name": "python3"
  },
  "language_info": {
   "codemirror_mode": {
    "name": "ipython",
    "version": 3
   },
   "file_extension": ".py",
   "mimetype": "text/x-python",
   "name": "python",
   "nbconvert_exporter": "python",
   "pygments_lexer": "ipython3",
   "version": "3.6.3"
  }
 },
 "nbformat": 4,
 "nbformat_minor": 2
}
