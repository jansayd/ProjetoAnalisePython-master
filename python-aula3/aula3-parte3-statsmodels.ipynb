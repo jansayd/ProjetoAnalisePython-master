{
 "cells": [
  {
   "cell_type": "markdown",
   "metadata": {},
   "source": [
    "# Python para Big Data - <span style=\"color:green\">Statsmodels</span>\n",
    "\n",
    "- É um biblioteca Python que fornece classes e funções para estimativa de diversas funções estatísticas.\n",
    "    - Resultados são testados em razão de pacotes de estatísticas existentes para garantir a precisão.\n",
    "- Os módulos são originalmente do scipy.stats e foi inicialmente escrito por Jonathan Taylor.\n",
    "- Como parte do Google Summer of Code 2009, o statsmodels foi testado, melhorado e disponibilizado como pacote.\n",
    "    - Desde então conta com o suporte do Google e AWR para o desenvolvimento.\n",
    "    \n",
    "## Visualizando preços médios de gasolina com Dotplot\n",
    "\n",
    "Esse notebook apresenta como um dotplot (as vezes chamado de \"forest plot\") pode ser utilizado para visualizar os preços médios da gasolina e a sua variação nos estados da EUA em três anos consecutivos. Os dados foram coletados da agência de energia dos EUA.\n",
    "\n",
    "Esse exemplo de notebook foi adaptado de: http://nbviewer.jupyter.org/urls/umich.box.com/shared/static/oh717lkxczhseep71lao.ipynb"
   ]
  },
  {
   "cell_type": "code",
   "execution_count": null,
   "metadata": {
    "collapsed": true
   },
   "outputs": [],
   "source": [
    "%matplotlib inline\n",
    "import matplotlib.pyplot as plt\n",
    "import pandas as pd\n",
    "from statsmodels.graphics.dotplots import dot_plot\n",
    "import numpy as np"
   ]
  },
  {
   "cell_type": "markdown",
   "metadata": {},
   "source": [
    "O arquivo com os dados está em formato Excel. Para realizar o download do arquivo, acesse: http://www.eia.gov/dnav/pet/xls/PET_PRI_ALLMG_A_EPM0_PTC_DPGAL_M.xls\n",
    "\n",
    "Foi feito o download do arquivo e renomeado para \"dataset1-preco-media-gasolina-estados-eua.xls\".\n",
    "\n",
    "Para carregar o arquivo, utilizaremos a biblioteca Pandas que facilita a leitura desse tipo de arquivo."
   ]
  },
  {
   "cell_type": "code",
   "execution_count": null,
   "metadata": {
    "collapsed": true
   },
   "outputs": [],
   "source": [
    "dados = pd.read_excel('dataset1-preco-media-gasolina-estados-eua.xls', \"Data 1\", skiprows=2)"
   ]
  },
  {
   "cell_type": "markdown",
   "metadata": {},
   "source": [
    "Os nomes das colunas são grandes, portanto, é necessário processá-los para incluir somente o nome do estado, que aparece no início de todos os nomes das colunas."
   ]
  },
  {
   "cell_type": "code",
   "execution_count": null,
   "metadata": {
    "collapsed": true
   },
   "outputs": [],
   "source": [
    "def tr(x): \n",
    "    xs = x.split() \n",
    "    # No caso de estados com nome de duas palavras\n",
    "    if xs[0].lower() in (\"new\", \"north\", \"south\", \"rhode\", \"west\"):\n",
    "        return xs[0] + \" \" + xs[1]\n",
    "    # No caso de estados com nomes de uma palavra\n",
    "    else: \n",
    "        return xs[0]"
   ]
  },
  {
   "cell_type": "code",
   "execution_count": null,
   "metadata": {
    "collapsed": true
   },
   "outputs": [],
   "source": [
    "dados = dados.rename(columns=tr)"
   ]
  },
  {
   "cell_type": "markdown",
   "metadata": {},
   "source": [
    "Precisamos remover as colunas que não são estados e realizar alguma limpeza nos dados."
   ]
  },
  {
   "cell_type": "code",
   "execution_count": null,
   "metadata": {
    "collapsed": true
   },
   "outputs": [],
   "source": [
    "for nm in (\"East\", \"Gulf\", \"Midwest\", \"Rocky\", \"Lower\", \"U.S.\", \n",
    "            \"Central\", \"New England\", \"District\", \"West Coast\"): \n",
    "    del dados[nm]"
   ]
  },
  {
   "cell_type": "code",
   "execution_count": null,
   "metadata": {
    "collapsed": true
   },
   "outputs": [],
   "source": [
    "nome_estados = list(dados.columns) \n",
    "nome_estados.remove(\"Date\")\n",
    "nome_estados.sort()\n",
    "print(nome_estados)"
   ]
  },
  {
   "cell_type": "markdown",
   "metadata": {},
   "source": [
    "Para finalizar, criamos um DataFrame que contém a média do preço da gasolina e preço mínimo e máximo para cada estado em cada ano."
   ]
  },
  {
   "cell_type": "code",
   "execution_count": null,
   "metadata": {
    "collapsed": true
   },
   "outputs": [],
   "source": [
    "dfs = []\n",
    "for year in 2008,2009,2010:\n",
    "     \n",
    "    ii = [i for i in dados.index if str(year) in str(dados.loc[i, \"Date\"])] \n",
    "    mn = dados.loc[ii,nome_estados].mean(0)\n",
    "    ucd = dados.loc[ii,nome_estados].max(0) - mn \n",
    "    lcd = mn - dados.loc[ii,nome_estados].min(0) \n",
    " \n",
    "    df1 = pd.DataFrame({\"Gas\": mn, \"ival1\": lcd, \"ival2\": ucd, \n",
    "                        \"State name\": mn.index}) \n",
    "    df1[\"Year\"] = year \n",
    "    dfs.append(df1)\n",
    "       \n",
    "df = pd.concat(dfs, axis=0, ignore_index=True)\n",
    "df.head()"
   ]
  },
  {
   "cell_type": "markdown",
   "metadata": {},
   "source": [
    "Agora podemos utilizar o ```dot_plot``` nos dados. Os intervalos representam uma série de preços dentro de um ano em um determinado estado."
   ]
  },
  {
   "cell_type": "code",
   "execution_count": null,
   "metadata": {
    "collapsed": true
   },
   "outputs": [],
   "source": [
    "fig = plt.figure(figsize=(8,25))\n",
    "\n",
    "ax = plt.axes([0.1, 0.1, 0.87, 0.88])\n",
    "\n",
    "fig.add_axes(ax)\n",
    "\n",
    "dot_plot(points=df[\"Gas\"], intervals=(df[[\"ival1\", \"ival2\"]]), ax=ax, \n",
    "    lines=df[\"State name\"], styles=df[\"Year\"], stacked=True, striped=True)\n",
    "\n",
    "handles, labels = ax.get_legend_handles_labels() \n",
    "\n",
    "leg = plt.figlegend(handles, labels, \"upper center\",\n",
    "        ncol=3, numpoints=1, handletextpad=0.0001) \n",
    "\n",
    "leg.draw_frame(False)\n",
    "\n",
    "ax.set_xlabel(\"Preço gasolina (dolares/galão)\", labelpad=10, size=17) \n",
    "\n",
    "plt.xlim(0, 4)"
   ]
  },
  {
   "cell_type": "markdown",
   "metadata": {},
   "source": [
    "No gráfico acima, os estados estão ordenados alfabeticamente. Também podemos ordenar pelo preço médio da gasolina. Para fazer isso, temos:"
   ]
  },
  {
   "cell_type": "code",
   "execution_count": null,
   "metadata": {
    "collapsed": true
   },
   "outputs": [],
   "source": [
    "gas = df[[\"Gas\", \"State name\"]].groupby(\"State name\")\n",
    "gas = gas[\"Gas\"].agg(np.mean)\n",
    "ii = np.argsort(gas)\n",
    "line_order = [gas.index[i] for i in ii]"
   ]
  },
  {
   "cell_type": "markdown",
   "metadata": {},
   "source": [
    "Agora é só utilizar o dot_plot ordenado pela média."
   ]
  },
  {
   "cell_type": "code",
   "execution_count": null,
   "metadata": {
    "collapsed": true
   },
   "outputs": [],
   "source": [
    "fig = plt.figure(figsize=(8,25))\n",
    "\n",
    "ax = plt.axes([0.1, 0.1, 0.87, 0.88])\n",
    "\n",
    "fig.add_axes(ax)\n",
    "\n",
    "dot_plot(points=df[\"Gas\"], intervals=(df[[\"ival1\", \"ival2\"]]), ax=ax, \n",
    "    lines=df[\"State name\"], styles=df[\"Year\"], stacked=True, striped=True,\n",
    "    line_order=line_order)\n",
    "\n",
    "handles, labels = ax.get_legend_handles_labels() \n",
    "\n",
    "leg = plt.figlegend(handles, labels, \"upper center\",\n",
    "        ncol=3, numpoints=1, handletextpad=0.0001) \n",
    "\n",
    "leg.draw_frame(False)\n",
    "\n",
    "ax.set_xlabel(\"Preço Gasolina (dolares/galão)\", labelpad=10, size=17) \n",
    "\n",
    "plt.xlim(0, 4)"
   ]
  },
  {
   "cell_type": "markdown",
   "metadata": {},
   "source": [
    "Podemos fazer algumas observações baseado nesses gráficos:\n",
    "\n",
    "- Em cada estado, o preço da gasolina foi mais alto em 2008 e mais baixo em 2009.\n",
    "- Existe uma variação baixa do preço em 2008 e muito alta em 2009.\n",
    "- A variação entre estados dentro de um ano é refletida na dispersão horizontal dos pontos de uma determinada cor. Essa variação não é muito grande, com exceção de aproximademente 5 estados.\n",
    "- A distribuição está bastante concentrada no extremo inferior da faixa de preço.\n",
    "    \n",
    "Outros exemplos podem ser visualizados em: https://github.com/statsmodels/statsmodels/wiki/Examples#user-contributed-examples"
   ]
  },
  {
   "cell_type": "code",
   "execution_count": null,
   "metadata": {
    "collapsed": true
   },
   "outputs": [],
   "source": []
  }
 ],
 "metadata": {
  "kernelspec": {
   "display_name": "Python 3",
   "language": "python",
   "name": "python3"
  },
  "language_info": {
   "codemirror_mode": {
    "name": "ipython",
    "version": 3
   },
   "file_extension": ".py",
   "mimetype": "text/x-python",
   "name": "python",
   "nbconvert_exporter": "python",
   "pygments_lexer": "ipython3",
   "version": "3.6.3"
  }
 },
 "nbformat": 4,
 "nbformat_minor": 2
}
